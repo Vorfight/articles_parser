{
 "cells": [
  {
   "cell_type": "markdown",
   "id": "d90e694c",
   "metadata": {},
   "source": [
    "# Examples for articles_parser\n",
    "\n",
    "This notebook demonstrates basic usage of the `articles_parser` module."
   ]
  },
  {
   "cell_type": "code",
   "execution_count": null,
   "id": "955f12c6",
   "metadata": {},
   "outputs": [],
   "source": [
    "740487"
   ]
  },
  {
   "cell_type": "markdown",
   "id": "eb23c9ca",
   "metadata": {},
   "source": [
    "## Python API"
   ]
  },
  {
   "cell_type": "code",
   "execution_count": 23,
   "id": "f1c80487",
   "metadata": {},
   "outputs": [
    {
     "name": "stdout",
     "output_type": "stream",
     "text": [
      "Найдено: G value\n"
     ]
    }
   ],
   "source": [
    "import re\n",
    "\n",
    "text = \"G value\"\n",
    "pattern = r\"(?i)G(?:\\s+|[-\\u2212\\u2010\\u2011\\u2012\\u2013\\u2014\\u2015])value\"\n",
    "match = re.search(pattern, text)\n",
    "if match:\n",
    "    print(\"Найдено:\", match.group())"
   ]
  },
  {
   "cell_type": "code",
   "execution_count": 27,
   "id": "84d5cc7e",
   "metadata": {},
   "outputs": [],
   "source": [
    "abstract_regex = [\n",
    "    r\"(?i)gamma|γ\",\n",
    "    r\"(?i)beta|β|electron\",\n",
    "    r\"(?i)(?:co\\s*[-\\u2212\\u2010\\u2011\\u2012\\u2013\\u2014\\u2015]?\\s*60|60\\s*[-\\u2212\\u2010\\u2011\\u2012\\u2013\\u2014\\u2015]?\\s*co|cobalt\\s*[-\\u2212\\u2010\\u2011\\u2012\\u2013\\u2014\\u2015]?\\s*60)\",\n",
    "    r\"(?i)(?:cs\\s*[-\\u2212\\u2010\\u2011\\u2012\\u2013\\u2014\\u2015]?\\s*137|137\\s*[-\\u2212\\u2010\\u2011\\u2012\\u2013\\u2014\\u2015]?\\s*cs|cesium\\s*[-\\u2212\\u2010\\u2011\\u2012\\u2013\\u2014\\u2015]?\\s*137|caesium\\s*[-\\u2212\\u2010\\u2011\\u2012\\u2013\\u2014\\u2015]?\\s*137)\",\n",
    "    r\"(?i)degradation\",\n",
    "    r\"(?i)radiolytic\\s+stability\",\n",
    "    r\"(?i)radiation\\s+chemical\\s+yield\",\n",
    "    r\"(?i)dose\\s+constant\",\n",
    "    r\"(?i)G(?:\\s+|[-\\u2212\\u2010\\u2011\\u2012\\u2013\\u2014\\u2015])value\",\n",
    "]"
   ]
  },
  {
   "cell_type": "code",
   "execution_count": 29,
   "id": "b6fdfd69",
   "metadata": {},
   "outputs": [],
   "source": [
    "abstract_res = [re.compile(p) for p in (abstract_regex or [])]"
   ]
  },
  {
   "cell_type": "code",
   "execution_count": 32,
   "id": "aff6101a",
   "metadata": {},
   "outputs": [],
   "source": [
    "combined_text = 'Electron'"
   ]
  },
  {
   "cell_type": "code",
   "execution_count": 33,
   "id": "a408a3c1",
   "metadata": {},
   "outputs": [
    {
     "data": {
      "text/plain": [
       "True"
      ]
     },
     "execution_count": 33,
     "metadata": {},
     "output_type": "execute_result"
    }
   ],
   "source": [
    "any(p.search(combined_text) for p in abstract_res)"
   ]
  },
  {
   "cell_type": "code",
   "execution_count": 2,
   "id": "7f16aee6",
   "metadata": {},
   "outputs": [],
   "source": [
    "import os"
   ]
  },
  {
   "cell_type": "code",
   "execution_count": 3,
   "id": "9dc0ef96",
   "metadata": {},
   "outputs": [
    {
     "data": {
      "text/plain": [
       "311"
      ]
     },
     "execution_count": 3,
     "metadata": {},
     "output_type": "execute_result"
    }
   ],
   "source": [
    "len(os.listdir('/home/mom_nikiforov/diploma/Articles/2/pdfs'))"
   ]
  },
  {
   "cell_type": "code",
   "execution_count": 4,
   "id": "66dc7df2",
   "metadata": {},
   "outputs": [],
   "source": [
    "import pandas as pd"
   ]
  },
  {
   "cell_type": "code",
   "execution_count": 5,
   "id": "bf7376e0",
   "metadata": {},
   "outputs": [],
   "source": [
    "df = pd.read_csv('/home/mom_nikiforov/diploma/Articles/1/inventory.csv')"
   ]
  },
  {
   "cell_type": "code",
   "execution_count": 6,
   "id": "22cc764a",
   "metadata": {},
   "outputs": [
    {
     "data": {
      "text/html": [
       "<div>\n",
       "<style scoped>\n",
       "    .dataframe tbody tr th:only-of-type {\n",
       "        vertical-align: middle;\n",
       "    }\n",
       "\n",
       "    .dataframe tbody tr th {\n",
       "        vertical-align: top;\n",
       "    }\n",
       "\n",
       "    .dataframe thead th {\n",
       "        text-align: right;\n",
       "    }\n",
       "</style>\n",
       "<table border=\"1\" class=\"dataframe\">\n",
       "  <thead>\n",
       "    <tr style=\"text-align: right;\">\n",
       "      <th></th>\n",
       "      <th>doi</th>\n",
       "      <th>title</th>\n",
       "      <th>source</th>\n",
       "      <th>keyword</th>\n",
       "      <th>abstract_available</th>\n",
       "      <th>abstract_matched</th>\n",
       "      <th>pdf_downloaded</th>\n",
       "      <th>xml_downloaded</th>\n",
       "      <th>names_found</th>\n",
       "      <th>units_found</th>\n",
       "      <th>notes</th>\n",
       "    </tr>\n",
       "  </thead>\n",
       "  <tbody>\n",
       "  </tbody>\n",
       "</table>\n",
       "</div>"
      ],
      "text/plain": [
       "Empty DataFrame\n",
       "Columns: [doi, title, source, keyword, abstract_available, abstract_matched, pdf_downloaded, xml_downloaded, names_found, units_found, notes]\n",
       "Index: []"
      ]
     },
     "execution_count": 6,
     "metadata": {},
     "output_type": "execute_result"
    }
   ],
   "source": [
    "df[df['units_found']]"
   ]
  },
  {
   "cell_type": "code",
   "execution_count": 7,
   "id": "18e34c53",
   "metadata": {},
   "outputs": [],
   "source": [
    "doi_remove = []\n",
    "for i in df[~(df['names_found'] | df['units_found']) & df['abstract_matched']]['doi'].tolist():\n",
    "    doi_remove.append(i.replace('/', '_'))"
   ]
  },
  {
   "cell_type": "code",
   "execution_count": 8,
   "id": "a74beb5d",
   "metadata": {},
   "outputs": [],
   "source": [
    "to_remove = []\n",
    "for i in os.listdir('/home/mom_nikiforov/diploma/Articles/1/pdfs'):\n",
    "    if i.replace('.pdf', '') in doi_remove:\n",
    "        to_remove.append(i)"
   ]
  },
  {
   "cell_type": "code",
   "execution_count": 9,
   "id": "8512f51d",
   "metadata": {},
   "outputs": [
    {
     "data": {
      "text/plain": [
       "5197"
      ]
     },
     "execution_count": 9,
     "metadata": {},
     "output_type": "execute_result"
    }
   ],
   "source": [
    "len(to_remove)"
   ]
  },
  {
   "cell_type": "code",
   "execution_count": 9,
   "id": "b0e8dda3",
   "metadata": {},
   "outputs": [],
   "source": [
    "import re"
   ]
  },
  {
   "cell_type": "code",
   "execution_count": 10,
   "id": "42f717ba",
   "metadata": {},
   "outputs": [],
   "source": [
    "q='''Where, G is the G-value given as molecule degraded per\n",
    "100 eV, M is the molecular weight of TEHDGA and D is\n",
    "the dose (Gy) absorbed by TEHDGA. The G value for neat\n",
    "TEHDGA obtained from the above plot is 8.65 ± 1.0, which\n",
    "is close to the reported value of its linear isomer TODGA\n",
    "(8.5 ± 0.9) [30]. The similarity in G values for both of\n",
    "these extractants indicate that the presence of branched alkyl\n",
    "group of amide has almost no effect on radiolytic degrada-\n",
    "tion.'''"
   ]
  },
  {
   "cell_type": "code",
   "execution_count": 20,
   "id": "71d924b9",
   "metadata": {},
   "outputs": [],
   "source": [
    "property_units=[r'(?:[Mm]olecules?|[Mm]ols?|[Mm]ol)\\s*(?:/|[Pp]er)\\s*100\\s*eV|(?:μ|µ|u|m|)?mol\\s*/\\s*J|k?(?:Gy|rad)\\^?(?:[-\\u2212\\u2010\\u2011\\u2012\\u2013\\u2014\\u2015])1|(?<!\\w)G(?:[-\\u2212\\u2010\\u2011\\u2012\\u2013\\u2014\\u2015]|\\s+)values?|(?<!\\w)G\\s*\\([^)]*\\)|[Rr]adiation\\s+[Cc]hemical\\s+[Yy]ield']"
   ]
  },
  {
   "cell_type": "code",
   "execution_count": 21,
   "id": "109422e8",
   "metadata": {},
   "outputs": [],
   "source": [
    "units_re = (\n",
    "    re.compile(\"|\".join(property_units))\n",
    "    if property_units\n",
    "    else None\n",
    ")"
   ]
  },
  {
   "cell_type": "code",
   "execution_count": 22,
   "id": "ebde4137",
   "metadata": {},
   "outputs": [
    {
     "data": {
      "text/plain": [
       "True"
      ]
     },
     "execution_count": 22,
     "metadata": {},
     "output_type": "execute_result"
    }
   ],
   "source": [
    "bool(units_re.search(q))"
   ]
  },
  {
   "cell_type": "code",
   "execution_count": null,
   "id": "9fc12f54",
   "metadata": {},
   "outputs": [],
   "source": [
    "import os, sys\n",
    "sys.path.insert(0, os.path.abspath(\"..\"))\n",
    "\n",
    "from pipeline import run_local\n",
    "for i in os.listdir('/home/mom_nikiforov/diploma/Articles/1/pdfs'):\n",
    "    r = run_local(\n",
    "            pdf_path=f'/home/mom_nikiforov/diploma/Articles/1/pdfs/{i}',\n",
    "            fulltext_filter=True,\n",
    "            fulltext_regex = [\n",
    "                            r'(?:\\[Mm]olecules?|[Mm]ols?|[Mm]ol)\\s*(?:/|[Pp]er)\\s*100\\s*eV',\n",
    "                            r'(?:μ|µ|u|m|)?mol\\s*/\\s*J',\n",
    "                            r'k?(?:Gy|rad)\\^?(?:[-\\u2212\\u2010\\u2011\\u2012\\u2013\\u2014\\u2015])',\n",
    "                            r'(?<!\\w)G(?:[-\\u2212\\u2010\\u2011\\u2012\\u2013\\u2014\\u2015]|\\s+)values?',\n",
    "                            r'(?<!\\w)G\\s*\\([^)]*\\)',\n",
    "                            r'[Rr]adiation\\s+[Cc]hemical\\s+[Yy]ield'\n",
    "                            ],\n",
    "            inventory=False,\n",
    "            save_text=False,\n",
    "    )\n",
    "    if r['units'] != 'passed':\n",
    "        os.remove(f'/home/mom_nikiforov/diploma/Articles/1/pdfs/{i}')\n"
   ]
  },
  {
   "cell_type": "code",
   "execution_count": null,
   "id": "4ad91ad2",
   "metadata": {},
   "outputs": [
    {
     "data": {
      "text/plain": [
       "'passed'"
      ]
     },
     "execution_count": 22,
     "metadata": {},
     "output_type": "execute_result"
    }
   ],
   "source": []
  },
  {
   "cell_type": "code",
   "execution_count": null,
   "id": "c9e8ed7d",
   "metadata": {},
   "outputs": [
    {
     "name": "stdout",
     "output_type": "stream",
     "text": [
      "File: s11144-018-1410-4.pdf\n",
      "Names check: not requested\n",
      "Units check: passed\n"
     ]
    }
   ],
   "source": [
    "import os, sys\n",
    "sys.path.insert(0, os.path.abspath(\"..\"))\n",
    "\n",
    "from pipeline import run_local\n",
    "r = run_local(\n",
    "        pdf_path=f'/home/mom_nikiforov/diploma/Articles/s11144-018-1410-4.pdf',\n",
    "        fulltext_filter=True,\n",
    "        fulltext_regex = [\n",
    "                        r'(?:\\[Mm]olecules?|[Mm]ols?|[Mm]ol)\\s*(?:/|[Pp]er)\\s*100\\s*eV',\n",
    "                        r'(?:μ|µ|u|m|)?mol\\s*/\\s*J',\n",
    "                        r'k?(?:Gy|rad)\\^?(?:[-\\u2212\\u2010\\u2011\\u2012\\u2013\\u2014\\u2015])',\n",
    "                        r'(?<!\\w)G(?:[-\\u2212\\u2010\\u2011\\u2012\\u2013\\u2014\\u2015]|\\s+)values?',\n",
    "                        r'(?<!\\w)G\\s*\\([^)]*\\)',\n",
    "                        r'[Rr]adiation\\s+[Cc]hemical\\s+[Yy]ield'\n",
    "                        ],\n",
    "        inventory=False,\n",
    "        save_text=False,\n",
    ")\n"
   ]
  },
  {
   "cell_type": "code",
   "execution_count": 1,
   "id": "b80d23f7",
   "metadata": {},
   "outputs": [
    {
     "name": "stdout",
     "output_type": "stream",
     "text": [
      "\n",
      "=== Keyword: radiolysis ===\n"
     ]
    },
    {
     "name": "stderr",
     "output_type": "stream",
     "text": [
      "ScienceDirect search:   0%|          | 19/100000 [00:10<15:18:34,  1.81rec/s]"
     ]
    },
    {
     "name": "stdout",
     "output_type": "stream",
     "text": [
      "Total unique records for 'radiolysis': 19\n",
      "\n",
      "=== Keyword: radiolytic stability ===\n"
     ]
    },
    {
     "name": "stderr",
     "output_type": "stream",
     "text": [
      "\n",
      "ScienceDirect search:   0%|          | 2/100000 [00:02<29:43:30,  1.07s/rec]"
     ]
    },
    {
     "name": "stdout",
     "output_type": "stream",
     "text": [
      "Total unique records for 'radiolytic stability': 2\n",
      "\n",
      "=== Keyword: radiolytic degradation ===\n"
     ]
    },
    {
     "name": "stderr",
     "output_type": "stream",
     "text": [
      "\n",
      "ScienceDirect search:   0%|          | 1/100000 [00:00<27:02:46,  1.03rec/s]"
     ]
    },
    {
     "ename": "KeyboardInterrupt",
     "evalue": "",
     "output_type": "error",
     "traceback": [
      "\u001b[31m---------------------------------------------------------------------------\u001b[39m",
      "\u001b[31mKeyboardInterrupt\u001b[39m                         Traceback (most recent call last)",
      "\u001b[36mCell\u001b[39m\u001b[36m \u001b[39m\u001b[32mIn[1]\u001b[39m\u001b[32m, line 6\u001b[39m\n\u001b[32m      2\u001b[39m sys.path.insert(\u001b[32m0\u001b[39m, os.path.abspath(\u001b[33m\"\u001b[39m\u001b[33m..\u001b[39m\u001b[33m\"\u001b[39m))\n\u001b[32m      4\u001b[39m \u001b[38;5;28;01mfrom\u001b[39;00m\u001b[38;5;250m \u001b[39m\u001b[34;01mpipeline\u001b[39;00m\u001b[38;5;250m \u001b[39m\u001b[38;5;28;01mimport\u001b[39;00m run_pipeline\n\u001b[32m----> \u001b[39m\u001b[32m6\u001b[39m run_pipeline(\n\u001b[32m      7\u001b[39m     keywords=[\u001b[33m\"\u001b[39m\u001b[33mradiolysis\u001b[39m\u001b[33m\"\u001b[39m, \u001b[33m\"\u001b[39m\u001b[33mradiolytic stability\u001b[39m\u001b[33m\"\u001b[39m, \u001b[33m\"\u001b[39m\u001b[33mradiolytic degradation\u001b[39m\u001b[33m\"\u001b[39m, \u001b[33m\"\u001b[39m\u001b[33mradiation stability\u001b[39m\u001b[33m\"\u001b[39m, \u001b[33m\"\u001b[39m\u001b[33mG-value\u001b[39m\u001b[33m\"\u001b[39m, \u001b[33m\"\u001b[39m\u001b[33mdose constant\u001b[39m\u001b[33m\"\u001b[39m, \u001b[33m\"\u001b[39m\u001b[33mradiation chemical yield\u001b[39m\u001b[33m\"\u001b[39m],\n\u001b[32m      8\u001b[39m     abstract_filter=\u001b[38;5;28;01mTrue\u001b[39;00m,\n\u001b[32m      9\u001b[39m     abstract_regex=[\u001b[33m\"\u001b[39m\u001b[33m[Gg]amma\u001b[39m\u001b[33m\"\u001b[39m, \u001b[33m\"\u001b[39m\u001b[33mγ\u001b[39m\u001b[33m\"\u001b[39m, \u001b[33m\"\u001b[39m\u001b[33m[Cc]o-60\u001b[39m\u001b[33m\"\u001b[39m, \u001b[33m\"\u001b[39m\u001b[33m[Cc]obalt-60\u001b[39m\u001b[33m\"\u001b[39m,\u001b[33m\"\u001b[39m\u001b[33m[Cc]s-137\u001b[39m\u001b[33m\"\u001b[39m, \u001b[33m\"\u001b[39m\u001b[33m[Cc]esium-137\u001b[39m\u001b[33m\"\u001b[39m, \u001b[33m\"\u001b[39m\u001b[33m[Cc]obalt 60\u001b[39m\u001b[33m\"\u001b[39m, \u001b[33m\"\u001b[39m\u001b[33m[Cc]aesium-137\u001b[39m\u001b[33m\"\u001b[39m, \u001b[33m\"\u001b[39m\u001b[33m60[Cc]o\u001b[39m\u001b[33m\"\u001b[39m, \u001b[33m\"\u001b[39m\u001b[33m137[Cc]s\u001b[39m\u001b[33m\"\u001b[39m, \u001b[33m\"\u001b[39m\u001b[33m[Cc]o60\u001b[39m\u001b[33m\"\u001b[39m, \u001b[33m\"\u001b[39m\u001b[33m[Cc]s137\u001b[39m\u001b[33m\"\u001b[39m, \u001b[33m\"\u001b[39m\u001b[33m[Bb]eta\u001b[39m\u001b[33m\"\u001b[39m, \u001b[33m\"\u001b[39m\u001b[33m[Ee]lectron\u001b[39m\u001b[33m\"\u001b[39m, \u001b[33m\"\u001b[39m\u001b[33mβ\u001b[39m\u001b[33m\"\u001b[39m],\n\u001b[32m     10\u001b[39m     fulltext_filter=\u001b[38;5;28;01mTrue\u001b[39;00m,\n\u001b[32m     11\u001b[39m     fulltext_regex = [\n\u001b[32m     12\u001b[39m                     \u001b[33mr\u001b[39m\u001b[33m'\u001b[39m\u001b[33m(?:\u001b[39m\u001b[33m\\\u001b[39m\u001b[33m[Mm]olecules?|[Mm]ols?|[Mm]ol)\u001b[39m\u001b[33m\\\u001b[39m\u001b[33ms*(?:/|[Pp]er)\u001b[39m\u001b[33m\\\u001b[39m\u001b[33ms*100\u001b[39m\u001b[33m\\\u001b[39m\u001b[33ms*eV\u001b[39m\u001b[33m'\u001b[39m,\n\u001b[32m     13\u001b[39m                     \u001b[33mr\u001b[39m\u001b[33m'\u001b[39m\u001b[33m(?:μ|µ|u|m|)?mol\u001b[39m\u001b[33m\\\u001b[39m\u001b[33ms*/\u001b[39m\u001b[33m\\\u001b[39m\u001b[33ms*J\u001b[39m\u001b[33m'\u001b[39m,\n\u001b[32m     14\u001b[39m                     \u001b[33mr\u001b[39m\u001b[33m'\u001b[39m\u001b[33mk?(?:Gy|rad)\u001b[39m\u001b[33m\\\u001b[39m\u001b[33m^?(?:[-\u001b[39m\u001b[33m\\\u001b[39m\u001b[33mu2212\u001b[39m\u001b[33m\\\u001b[39m\u001b[33mu2010\u001b[39m\u001b[33m\\\u001b[39m\u001b[33mu2011\u001b[39m\u001b[33m\\\u001b[39m\u001b[33mu2012\u001b[39m\u001b[33m\\\u001b[39m\u001b[33mu2013\u001b[39m\u001b[33m\\\u001b[39m\u001b[33mu2014\u001b[39m\u001b[33m\\\u001b[39m\u001b[33mu2015])\u001b[39m\u001b[33m'\u001b[39m,\n\u001b[32m     15\u001b[39m                     \u001b[33mr\u001b[39m\u001b[33m'\u001b[39m\u001b[33m(?<!\u001b[39m\u001b[33m\\\u001b[39m\u001b[33mw)G(?:[-\u001b[39m\u001b[33m\\\u001b[39m\u001b[33mu2212\u001b[39m\u001b[33m\\\u001b[39m\u001b[33mu2010\u001b[39m\u001b[33m\\\u001b[39m\u001b[33mu2011\u001b[39m\u001b[33m\\\u001b[39m\u001b[33mu2012\u001b[39m\u001b[33m\\\u001b[39m\u001b[33mu2013\u001b[39m\u001b[33m\\\u001b[39m\u001b[33mu2014\u001b[39m\u001b[33m\\\u001b[39m\u001b[33mu2015]|\u001b[39m\u001b[33m\\\u001b[39m\u001b[33ms+)values?\u001b[39m\u001b[33m'\u001b[39m,\n\u001b[32m     16\u001b[39m                     \u001b[33mr\u001b[39m\u001b[33m'\u001b[39m\u001b[33m(?<!\u001b[39m\u001b[33m\\\u001b[39m\u001b[33mw)G\u001b[39m\u001b[33m\\\u001b[39m\u001b[33ms*\u001b[39m\u001b[33m\\\u001b[39m\u001b[33m([^)]*\u001b[39m\u001b[33m\\\u001b[39m\u001b[33m)\u001b[39m\u001b[33m'\u001b[39m,\n\u001b[32m     17\u001b[39m                     \u001b[33mr\u001b[39m\u001b[33m'\u001b[39m\u001b[33m[Rr]adiation\u001b[39m\u001b[33m\\\u001b[39m\u001b[33ms+[Cc]hemical\u001b[39m\u001b[33m\\\u001b[39m\u001b[33ms+[Yy]ield\u001b[39m\u001b[33m'\u001b[39m\n\u001b[32m     18\u001b[39m                     ],\n\u001b[32m     19\u001b[39m     oa_only=\u001b[38;5;28;01mFalse\u001b[39;00m,\n\u001b[32m     20\u001b[39m     max_per_source=\u001b[32m100000\u001b[39m,\n\u001b[32m     21\u001b[39m     output_directory=\u001b[33m\"\u001b[39m\u001b[33m/home/mom_nikiforov/diploma/Articles/2\u001b[39m\u001b[33m\"\u001b[39m,\n\u001b[32m     22\u001b[39m     sources=[\u001b[33m\"\u001b[39m\u001b[33mScienceDirect\u001b[39m\u001b[33m\"\u001b[39m],\n\u001b[32m     23\u001b[39m     verbose=\u001b[38;5;28;01mFalse\u001b[39;00m\n\u001b[32m     24\u001b[39m )\n",
      "\u001b[36mFile \u001b[39m\u001b[32m~/diploma/articles_parser/pipeline.py:117\u001b[39m, in \u001b[36mrun_pipeline\u001b[39m\u001b[34m(keywords, abstract_filter, abstract_regex, fulltext_filter, fulltext_regex, oa_only, max_per_source, output_directory, sources, libgen_domain, verbose, save_text)\u001b[39m\n\u001b[32m    115\u001b[39m \u001b[38;5;28mprint\u001b[39m(\u001b[33mf\u001b[39m\u001b[33m\"\u001b[39m\u001b[38;5;130;01m\\n\u001b[39;00m\u001b[33m=== Keyword: \u001b[39m\u001b[38;5;132;01m{\u001b[39;00mkw\u001b[38;5;132;01m}\u001b[39;00m\u001b[33m ===\u001b[39m\u001b[33m\"\u001b[39m, flush=\u001b[38;5;28;01mTrue\u001b[39;00m)\n\u001b[32m    116\u001b[39m config.set_keywords([kw])\n\u001b[32m--> \u001b[39m\u001b[32m117\u001b[39m searches = [src_funcs[s]([kw], max_records) \u001b[38;5;28;01mfor\u001b[39;00m s \u001b[38;5;129;01min\u001b[39;00m selected]\n\u001b[32m    118\u001b[39m db = _merge_sources(*searches)\n\u001b[32m    119\u001b[39m \u001b[38;5;28mprint\u001b[39m(\u001b[33mf\u001b[39m\u001b[33m\"\u001b[39m\u001b[33mTotal unique records for \u001b[39m\u001b[33m'\u001b[39m\u001b[38;5;132;01m{\u001b[39;00mkw\u001b[38;5;132;01m}\u001b[39;00m\u001b[33m'\u001b[39m\u001b[33m: \u001b[39m\u001b[38;5;132;01m{\u001b[39;00m\u001b[38;5;28mlen\u001b[39m(db)\u001b[38;5;132;01m}\u001b[39;00m\u001b[33m\"\u001b[39m, flush=\u001b[38;5;28;01mTrue\u001b[39;00m)\n",
      "\u001b[36mFile \u001b[39m\u001b[32m~/diploma/articles_parser/pipeline.py:117\u001b[39m, in \u001b[36m<listcomp>\u001b[39m\u001b[34m(.0)\u001b[39m\n\u001b[32m    115\u001b[39m \u001b[38;5;28mprint\u001b[39m(\u001b[33mf\u001b[39m\u001b[33m\"\u001b[39m\u001b[38;5;130;01m\\n\u001b[39;00m\u001b[33m=== Keyword: \u001b[39m\u001b[38;5;132;01m{\u001b[39;00mkw\u001b[38;5;132;01m}\u001b[39;00m\u001b[33m ===\u001b[39m\u001b[33m\"\u001b[39m, flush=\u001b[38;5;28;01mTrue\u001b[39;00m)\n\u001b[32m    116\u001b[39m config.set_keywords([kw])\n\u001b[32m--> \u001b[39m\u001b[32m117\u001b[39m searches = [src_funcs[s]([kw], max_records) \u001b[38;5;28;01mfor\u001b[39;00m s \u001b[38;5;129;01min\u001b[39;00m selected]\n\u001b[32m    118\u001b[39m db = _merge_sources(*searches)\n\u001b[32m    119\u001b[39m \u001b[38;5;28mprint\u001b[39m(\u001b[33mf\u001b[39m\u001b[33m\"\u001b[39m\u001b[33mTotal unique records for \u001b[39m\u001b[33m'\u001b[39m\u001b[38;5;132;01m{\u001b[39;00mkw\u001b[38;5;132;01m}\u001b[39;00m\u001b[33m'\u001b[39m\u001b[33m: \u001b[39m\u001b[38;5;132;01m{\u001b[39;00m\u001b[38;5;28mlen\u001b[39m(db)\u001b[38;5;132;01m}\u001b[39;00m\u001b[33m\"\u001b[39m, flush=\u001b[38;5;28;01mTrue\u001b[39;00m)\n",
      "\u001b[36mFile \u001b[39m\u001b[32m~/diploma/articles_parser/search/sciencedirect.py:63\u001b[39m, in \u001b[36msearch_sciencedirect\u001b[39m\u001b[34m(keywords, max_records, progress_cb)\u001b[39m\n\u001b[32m     54\u001b[39m \u001b[38;5;28;01mwhile\u001b[39;00m collected < max_records:\n\u001b[32m     55\u001b[39m     params = {\n\u001b[32m     56\u001b[39m         \u001b[33m\"\u001b[39m\u001b[33mquery\u001b[39m\u001b[33m\"\u001b[39m: query,\n\u001b[32m     57\u001b[39m         \u001b[33m\"\u001b[39m\u001b[33mcount\u001b[39m\u001b[33m\"\u001b[39m: count,\n\u001b[32m   (...)\u001b[39m\u001b[32m     60\u001b[39m         \u001b[33m'\u001b[39m\u001b[33mhttpAccept\u001b[39m\u001b[33m'\u001b[39m: \u001b[33m'\u001b[39m\u001b[33mapplication/json\u001b[39m\u001b[33m'\u001b[39m,\n\u001b[32m     61\u001b[39m     }\n\u001b[32m---> \u001b[39m\u001b[32m63\u001b[39m     data = _safe_request_with_retry(base, params=params)\n\u001b[32m     64\u001b[39m     \u001b[38;5;28;01mif\u001b[39;00m \u001b[38;5;129;01mnot\u001b[39;00m data:\n\u001b[32m     65\u001b[39m         \u001b[38;5;28;01mbreak\u001b[39;00m\n",
      "\u001b[36mFile \u001b[39m\u001b[32m~/diploma/articles_parser/search/sciencedirect.py:27\u001b[39m, in \u001b[36m_safe_request_with_retry\u001b[39m\u001b[34m(url, params)\u001b[39m\n\u001b[32m     25\u001b[39m delay = RETRY_BASE_DELAY\n\u001b[32m     26\u001b[39m \u001b[38;5;28;01mfor\u001b[39;00m attempt \u001b[38;5;129;01min\u001b[39;00m \u001b[38;5;28mrange\u001b[39m(MAX_RETRIES):\n\u001b[32m---> \u001b[39m\u001b[32m27\u001b[39m     data = safe_request_json(url, params=params)  \u001b[38;5;66;03m# safe_request_json returns None on any error\u001b[39;00m\n\u001b[32m     28\u001b[39m     \u001b[38;5;28;01mif\u001b[39;00m data \u001b[38;5;129;01mis\u001b[39;00m \u001b[38;5;28;01mNone\u001b[39;00m:\n\u001b[32m     29\u001b[39m         time.sleep(delay)\n",
      "\u001b[36mFile \u001b[39m\u001b[32m~/diploma/articles_parser/utils.py:50\u001b[39m, in \u001b[36msafe_request_json\u001b[39m\u001b[34m(url, params, headers)\u001b[39m\n\u001b[32m     48\u001b[39m time.sleep(config.RATE_LIMIT_SLEEP)\n\u001b[32m     49\u001b[39m \u001b[38;5;28;01mtry\u001b[39;00m:\n\u001b[32m---> \u001b[39m\u001b[32m50\u001b[39m     r = requests.get(url, params=params, headers=headers, timeout=config.REQUESTS_TIMEOUT)\n\u001b[32m     51\u001b[39m     r.raise_for_status()\n\u001b[32m     52\u001b[39m     \u001b[38;5;28;01mreturn\u001b[39;00m r.json()\n",
      "\u001b[36mFile \u001b[39m\u001b[32m/opt/anaconda3/envs/mom_radstab/lib/python3.11/site-packages/requests/api.py:73\u001b[39m, in \u001b[36mget\u001b[39m\u001b[34m(url, params, **kwargs)\u001b[39m\n\u001b[32m     62\u001b[39m \u001b[38;5;28;01mdef\u001b[39;00m\u001b[38;5;250m \u001b[39m\u001b[34mget\u001b[39m(url, params=\u001b[38;5;28;01mNone\u001b[39;00m, **kwargs):\n\u001b[32m     63\u001b[39m \u001b[38;5;250m    \u001b[39m\u001b[33mr\u001b[39m\u001b[33;03m\"\"\"Sends a GET request.\u001b[39;00m\n\u001b[32m     64\u001b[39m \n\u001b[32m     65\u001b[39m \u001b[33;03m    :param url: URL for the new :class:`Request` object.\u001b[39;00m\n\u001b[32m   (...)\u001b[39m\u001b[32m     70\u001b[39m \u001b[33;03m    :rtype: requests.Response\u001b[39;00m\n\u001b[32m     71\u001b[39m \u001b[33;03m    \"\"\"\u001b[39;00m\n\u001b[32m---> \u001b[39m\u001b[32m73\u001b[39m     \u001b[38;5;28;01mreturn\u001b[39;00m request(\u001b[33m\"\u001b[39m\u001b[33mget\u001b[39m\u001b[33m\"\u001b[39m, url, params=params, **kwargs)\n",
      "\u001b[36mFile \u001b[39m\u001b[32m/opt/anaconda3/envs/mom_radstab/lib/python3.11/site-packages/requests/api.py:59\u001b[39m, in \u001b[36mrequest\u001b[39m\u001b[34m(method, url, **kwargs)\u001b[39m\n\u001b[32m     55\u001b[39m \u001b[38;5;66;03m# By using the 'with' statement we are sure the session is closed, thus we\u001b[39;00m\n\u001b[32m     56\u001b[39m \u001b[38;5;66;03m# avoid leaving sockets open which can trigger a ResourceWarning in some\u001b[39;00m\n\u001b[32m     57\u001b[39m \u001b[38;5;66;03m# cases, and look like a memory leak in others.\u001b[39;00m\n\u001b[32m     58\u001b[39m \u001b[38;5;28;01mwith\u001b[39;00m sessions.Session() \u001b[38;5;28;01mas\u001b[39;00m session:\n\u001b[32m---> \u001b[39m\u001b[32m59\u001b[39m     \u001b[38;5;28;01mreturn\u001b[39;00m session.request(method=method, url=url, **kwargs)\n",
      "\u001b[36mFile \u001b[39m\u001b[32m/opt/anaconda3/envs/mom_radstab/lib/python3.11/site-packages/requests/sessions.py:589\u001b[39m, in \u001b[36mSession.request\u001b[39m\u001b[34m(self, method, url, params, data, headers, cookies, files, auth, timeout, allow_redirects, proxies, hooks, stream, verify, cert, json)\u001b[39m\n\u001b[32m    584\u001b[39m send_kwargs = {\n\u001b[32m    585\u001b[39m     \u001b[33m\"\u001b[39m\u001b[33mtimeout\u001b[39m\u001b[33m\"\u001b[39m: timeout,\n\u001b[32m    586\u001b[39m     \u001b[33m\"\u001b[39m\u001b[33mallow_redirects\u001b[39m\u001b[33m\"\u001b[39m: allow_redirects,\n\u001b[32m    587\u001b[39m }\n\u001b[32m    588\u001b[39m send_kwargs.update(settings)\n\u001b[32m--> \u001b[39m\u001b[32m589\u001b[39m resp = \u001b[38;5;28mself\u001b[39m.send(prep, **send_kwargs)\n\u001b[32m    591\u001b[39m \u001b[38;5;28;01mreturn\u001b[39;00m resp\n",
      "\u001b[36mFile \u001b[39m\u001b[32m/opt/anaconda3/envs/mom_radstab/lib/python3.11/site-packages/requests/sessions.py:703\u001b[39m, in \u001b[36mSession.send\u001b[39m\u001b[34m(self, request, **kwargs)\u001b[39m\n\u001b[32m    700\u001b[39m start = preferred_clock()\n\u001b[32m    702\u001b[39m \u001b[38;5;66;03m# Send the request\u001b[39;00m\n\u001b[32m--> \u001b[39m\u001b[32m703\u001b[39m r = adapter.send(request, **kwargs)\n\u001b[32m    705\u001b[39m \u001b[38;5;66;03m# Total elapsed time of the request (approximately)\u001b[39;00m\n\u001b[32m    706\u001b[39m elapsed = preferred_clock() - start\n",
      "\u001b[36mFile \u001b[39m\u001b[32m/opt/anaconda3/envs/mom_radstab/lib/python3.11/site-packages/requests/adapters.py:644\u001b[39m, in \u001b[36mHTTPAdapter.send\u001b[39m\u001b[34m(self, request, stream, timeout, verify, cert, proxies)\u001b[39m\n\u001b[32m    641\u001b[39m     timeout = TimeoutSauce(connect=timeout, read=timeout)\n\u001b[32m    643\u001b[39m \u001b[38;5;28;01mtry\u001b[39;00m:\n\u001b[32m--> \u001b[39m\u001b[32m644\u001b[39m     resp = conn.urlopen(\n\u001b[32m    645\u001b[39m         method=request.method,\n\u001b[32m    646\u001b[39m         url=url,\n\u001b[32m    647\u001b[39m         body=request.body,\n\u001b[32m    648\u001b[39m         headers=request.headers,\n\u001b[32m    649\u001b[39m         redirect=\u001b[38;5;28;01mFalse\u001b[39;00m,\n\u001b[32m    650\u001b[39m         assert_same_host=\u001b[38;5;28;01mFalse\u001b[39;00m,\n\u001b[32m    651\u001b[39m         preload_content=\u001b[38;5;28;01mFalse\u001b[39;00m,\n\u001b[32m    652\u001b[39m         decode_content=\u001b[38;5;28;01mFalse\u001b[39;00m,\n\u001b[32m    653\u001b[39m         retries=\u001b[38;5;28mself\u001b[39m.max_retries,\n\u001b[32m    654\u001b[39m         timeout=timeout,\n\u001b[32m    655\u001b[39m         chunked=chunked,\n\u001b[32m    656\u001b[39m     )\n\u001b[32m    658\u001b[39m \u001b[38;5;28;01mexcept\u001b[39;00m (ProtocolError, \u001b[38;5;167;01mOSError\u001b[39;00m) \u001b[38;5;28;01mas\u001b[39;00m err:\n\u001b[32m    659\u001b[39m     \u001b[38;5;28;01mraise\u001b[39;00m \u001b[38;5;167;01mConnectionError\u001b[39;00m(err, request=request)\n",
      "\u001b[36mFile \u001b[39m\u001b[32m/opt/anaconda3/envs/mom_radstab/lib/python3.11/site-packages/urllib3/connectionpool.py:787\u001b[39m, in \u001b[36mHTTPConnectionPool.urlopen\u001b[39m\u001b[34m(self, method, url, body, headers, retries, redirect, assert_same_host, timeout, pool_timeout, release_conn, chunked, body_pos, preload_content, decode_content, **response_kw)\u001b[39m\n\u001b[32m    784\u001b[39m response_conn = conn \u001b[38;5;28;01mif\u001b[39;00m \u001b[38;5;129;01mnot\u001b[39;00m release_conn \u001b[38;5;28;01melse\u001b[39;00m \u001b[38;5;28;01mNone\u001b[39;00m\n\u001b[32m    786\u001b[39m \u001b[38;5;66;03m# Make the request on the HTTPConnection object\u001b[39;00m\n\u001b[32m--> \u001b[39m\u001b[32m787\u001b[39m response = \u001b[38;5;28mself\u001b[39m._make_request(\n\u001b[32m    788\u001b[39m     conn,\n\u001b[32m    789\u001b[39m     method,\n\u001b[32m    790\u001b[39m     url,\n\u001b[32m    791\u001b[39m     timeout=timeout_obj,\n\u001b[32m    792\u001b[39m     body=body,\n\u001b[32m    793\u001b[39m     headers=headers,\n\u001b[32m    794\u001b[39m     chunked=chunked,\n\u001b[32m    795\u001b[39m     retries=retries,\n\u001b[32m    796\u001b[39m     response_conn=response_conn,\n\u001b[32m    797\u001b[39m     preload_content=preload_content,\n\u001b[32m    798\u001b[39m     decode_content=decode_content,\n\u001b[32m    799\u001b[39m     **response_kw,\n\u001b[32m    800\u001b[39m )\n\u001b[32m    802\u001b[39m \u001b[38;5;66;03m# Everything went great!\u001b[39;00m\n\u001b[32m    803\u001b[39m clean_exit = \u001b[38;5;28;01mTrue\u001b[39;00m\n",
      "\u001b[36mFile \u001b[39m\u001b[32m/opt/anaconda3/envs/mom_radstab/lib/python3.11/site-packages/urllib3/connectionpool.py:464\u001b[39m, in \u001b[36mHTTPConnectionPool._make_request\u001b[39m\u001b[34m(self, conn, method, url, body, headers, retries, timeout, chunked, response_conn, preload_content, decode_content, enforce_content_length)\u001b[39m\n\u001b[32m    461\u001b[39m \u001b[38;5;28;01mtry\u001b[39;00m:\n\u001b[32m    462\u001b[39m     \u001b[38;5;66;03m# Trigger any extra validation we need to do.\u001b[39;00m\n\u001b[32m    463\u001b[39m     \u001b[38;5;28;01mtry\u001b[39;00m:\n\u001b[32m--> \u001b[39m\u001b[32m464\u001b[39m         \u001b[38;5;28mself\u001b[39m._validate_conn(conn)\n\u001b[32m    465\u001b[39m     \u001b[38;5;28;01mexcept\u001b[39;00m (SocketTimeout, BaseSSLError) \u001b[38;5;28;01mas\u001b[39;00m e:\n\u001b[32m    466\u001b[39m         \u001b[38;5;28mself\u001b[39m._raise_timeout(err=e, url=url, timeout_value=conn.timeout)\n",
      "\u001b[36mFile \u001b[39m\u001b[32m/opt/anaconda3/envs/mom_radstab/lib/python3.11/site-packages/urllib3/connectionpool.py:1093\u001b[39m, in \u001b[36mHTTPSConnectionPool._validate_conn\u001b[39m\u001b[34m(self, conn)\u001b[39m\n\u001b[32m   1091\u001b[39m \u001b[38;5;66;03m# Force connect early to allow us to validate the connection.\u001b[39;00m\n\u001b[32m   1092\u001b[39m \u001b[38;5;28;01mif\u001b[39;00m conn.is_closed:\n\u001b[32m-> \u001b[39m\u001b[32m1093\u001b[39m     conn.connect()\n\u001b[32m   1095\u001b[39m \u001b[38;5;66;03m# TODO revise this, see https://github.com/urllib3/urllib3/issues/2791\u001b[39;00m\n\u001b[32m   1096\u001b[39m \u001b[38;5;28;01mif\u001b[39;00m \u001b[38;5;129;01mnot\u001b[39;00m conn.is_verified \u001b[38;5;129;01mand\u001b[39;00m \u001b[38;5;129;01mnot\u001b[39;00m conn.proxy_is_verified:\n",
      "\u001b[36mFile \u001b[39m\u001b[32m/opt/anaconda3/envs/mom_radstab/lib/python3.11/site-packages/urllib3/connection.py:790\u001b[39m, in \u001b[36mHTTPSConnection.connect\u001b[39m\u001b[34m(self)\u001b[39m\n\u001b[32m    787\u001b[39m     \u001b[38;5;66;03m# Remove trailing '.' from fqdn hostnames to allow certificate validation\u001b[39;00m\n\u001b[32m    788\u001b[39m     server_hostname_rm_dot = server_hostname.rstrip(\u001b[33m\"\u001b[39m\u001b[33m.\u001b[39m\u001b[33m\"\u001b[39m)\n\u001b[32m--> \u001b[39m\u001b[32m790\u001b[39m     sock_and_verified = _ssl_wrap_socket_and_match_hostname(\n\u001b[32m    791\u001b[39m         sock=sock,\n\u001b[32m    792\u001b[39m         cert_reqs=\u001b[38;5;28mself\u001b[39m.cert_reqs,\n\u001b[32m    793\u001b[39m         ssl_version=\u001b[38;5;28mself\u001b[39m.ssl_version,\n\u001b[32m    794\u001b[39m         ssl_minimum_version=\u001b[38;5;28mself\u001b[39m.ssl_minimum_version,\n\u001b[32m    795\u001b[39m         ssl_maximum_version=\u001b[38;5;28mself\u001b[39m.ssl_maximum_version,\n\u001b[32m    796\u001b[39m         ca_certs=\u001b[38;5;28mself\u001b[39m.ca_certs,\n\u001b[32m    797\u001b[39m         ca_cert_dir=\u001b[38;5;28mself\u001b[39m.ca_cert_dir,\n\u001b[32m    798\u001b[39m         ca_cert_data=\u001b[38;5;28mself\u001b[39m.ca_cert_data,\n\u001b[32m    799\u001b[39m         cert_file=\u001b[38;5;28mself\u001b[39m.cert_file,\n\u001b[32m    800\u001b[39m         key_file=\u001b[38;5;28mself\u001b[39m.key_file,\n\u001b[32m    801\u001b[39m         key_password=\u001b[38;5;28mself\u001b[39m.key_password,\n\u001b[32m    802\u001b[39m         server_hostname=server_hostname_rm_dot,\n\u001b[32m    803\u001b[39m         ssl_context=\u001b[38;5;28mself\u001b[39m.ssl_context,\n\u001b[32m    804\u001b[39m         tls_in_tls=tls_in_tls,\n\u001b[32m    805\u001b[39m         assert_hostname=\u001b[38;5;28mself\u001b[39m.assert_hostname,\n\u001b[32m    806\u001b[39m         assert_fingerprint=\u001b[38;5;28mself\u001b[39m.assert_fingerprint,\n\u001b[32m    807\u001b[39m     )\n\u001b[32m    808\u001b[39m     \u001b[38;5;28mself\u001b[39m.sock = sock_and_verified.socket\n\u001b[32m    810\u001b[39m \u001b[38;5;66;03m# If an error occurs during connection/handshake we may need to release\u001b[39;00m\n\u001b[32m    811\u001b[39m \u001b[38;5;66;03m# our lock so another connection can probe the origin.\u001b[39;00m\n",
      "\u001b[36mFile \u001b[39m\u001b[32m/opt/anaconda3/envs/mom_radstab/lib/python3.11/site-packages/urllib3/connection.py:969\u001b[39m, in \u001b[36m_ssl_wrap_socket_and_match_hostname\u001b[39m\u001b[34m(sock, cert_reqs, ssl_version, ssl_minimum_version, ssl_maximum_version, cert_file, key_file, key_password, ca_certs, ca_cert_dir, ca_cert_data, assert_hostname, assert_fingerprint, server_hostname, ssl_context, tls_in_tls)\u001b[39m\n\u001b[32m    966\u001b[39m     \u001b[38;5;28;01mif\u001b[39;00m is_ipaddress(normalized):\n\u001b[32m    967\u001b[39m         server_hostname = normalized\n\u001b[32m--> \u001b[39m\u001b[32m969\u001b[39m ssl_sock = ssl_wrap_socket(\n\u001b[32m    970\u001b[39m     sock=sock,\n\u001b[32m    971\u001b[39m     keyfile=key_file,\n\u001b[32m    972\u001b[39m     certfile=cert_file,\n\u001b[32m    973\u001b[39m     key_password=key_password,\n\u001b[32m    974\u001b[39m     ca_certs=ca_certs,\n\u001b[32m    975\u001b[39m     ca_cert_dir=ca_cert_dir,\n\u001b[32m    976\u001b[39m     ca_cert_data=ca_cert_data,\n\u001b[32m    977\u001b[39m     server_hostname=server_hostname,\n\u001b[32m    978\u001b[39m     ssl_context=context,\n\u001b[32m    979\u001b[39m     tls_in_tls=tls_in_tls,\n\u001b[32m    980\u001b[39m )\n\u001b[32m    982\u001b[39m \u001b[38;5;28;01mtry\u001b[39;00m:\n\u001b[32m    983\u001b[39m     \u001b[38;5;28;01mif\u001b[39;00m assert_fingerprint:\n",
      "\u001b[36mFile \u001b[39m\u001b[32m/opt/anaconda3/envs/mom_radstab/lib/python3.11/site-packages/urllib3/util/ssl_.py:458\u001b[39m, in \u001b[36mssl_wrap_socket\u001b[39m\u001b[34m(sock, keyfile, certfile, cert_reqs, ca_certs, server_hostname, ssl_version, ciphers, ssl_context, ca_cert_dir, key_password, ca_cert_data, tls_in_tls)\u001b[39m\n\u001b[32m    456\u001b[39m \u001b[38;5;28;01mif\u001b[39;00m ca_certs \u001b[38;5;129;01mor\u001b[39;00m ca_cert_dir \u001b[38;5;129;01mor\u001b[39;00m ca_cert_data:\n\u001b[32m    457\u001b[39m     \u001b[38;5;28;01mtry\u001b[39;00m:\n\u001b[32m--> \u001b[39m\u001b[32m458\u001b[39m         context.load_verify_locations(ca_certs, ca_cert_dir, ca_cert_data)\n\u001b[32m    459\u001b[39m     \u001b[38;5;28;01mexcept\u001b[39;00m \u001b[38;5;167;01mOSError\u001b[39;00m \u001b[38;5;28;01mas\u001b[39;00m e:\n\u001b[32m    460\u001b[39m         \u001b[38;5;28;01mraise\u001b[39;00m SSLError(e) \u001b[38;5;28;01mfrom\u001b[39;00m\u001b[38;5;250m \u001b[39m\u001b[34;01me\u001b[39;00m\n",
      "\u001b[31mKeyboardInterrupt\u001b[39m: "
     ]
    }
   ],
   "source": [
    "import os, sys\n",
    "sys.path.insert(0, os.path.abspath(\"..\"))\n",
    "\n",
    "from pipeline import run_pipeline\n",
    "\n",
    "run_pipeline(\n",
    "    keywords=[\"radiolysis\", \"radiolytic stability\", \"radiolytic degradation\", \"radiation stability\", \"G-value\", \"dose constant\", \"radiation chemical yield\"],\n",
    "    abstract_filter=True,\n",
    "    abstract_regex=[\"[Gg]amma\", \"γ\", \"[Cc]o-60\", \"[Cc]obalt-60\",\"[Cc]s-137\", \"[Cc]esium-137\", \"[Cc]obalt 60\", \"[Cc]aesium-137\", \"60[Cc]o\", \"137[Cc]s\", \"[Cc]o60\", \"[Cc]s137\", \"[Bb]eta\", \"[Ee]lectron\", \"β\"],\n",
    "    fulltext_filter=True,\n",
    "    fulltext_regex = [\n",
    "                    r'(?:\\[Mm]olecules?|[Mm]ols?|[Mm]ol)\\s*(?:/|[Pp]er)\\s*100\\s*eV',\n",
    "                    r'(?:μ|µ|u|m|)?mol\\s*/\\s*J',\n",
    "                    r'k?(?:Gy|rad)\\^?(?:[-\\u2212\\u2010\\u2011\\u2012\\u2013\\u2014\\u2015])',\n",
    "                    r'(?<!\\w)G(?:[-\\u2212\\u2010\\u2011\\u2012\\u2013\\u2014\\u2015]|\\s+)values?',\n",
    "                    r'(?<!\\w)G\\s*\\([^)]*\\)',\n",
    "                    r'[Rr]adiation\\s+[Cc]hemical\\s+[Yy]ield'\n",
    "                    ],\n",
    "    oa_only=False,\n",
    "    max_per_source=100000,\n",
    "    output_directory=\"/home/mom_nikiforov/diploma/Articles/2\",\n",
    "    sources=[\"ScienceDirect\"],\n",
    "    verbose=False\n",
    ")"
   ]
  },
  {
   "cell_type": "markdown",
   "id": "f74a0cf1",
   "metadata": {},
   "source": [
    "## Command line interface"
   ]
  },
  {
   "cell_type": "code",
   "execution_count": null,
   "id": "19871968",
   "metadata": {},
   "outputs": [],
   "source": [
    "!python cli.py --keywords \"water viscosity\" --oa-only --max-per-source 2 --output-directory example_output"
   ]
  }
 ],
 "metadata": {
  "kernelspec": {
   "display_name": "mom_radstab",
   "language": "python",
   "name": "python3"
  },
  "language_info": {
   "codemirror_mode": {
    "name": "ipython",
    "version": 3
   },
   "file_extension": ".py",
   "mimetype": "text/x-python",
   "name": "python",
   "nbconvert_exporter": "python",
   "pygments_lexer": "ipython3",
   "version": "3.11.13"
  }
 },
 "nbformat": 4,
 "nbformat_minor": 5
}
