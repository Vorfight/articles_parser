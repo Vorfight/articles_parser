{
 "cells": [
  {
   "cell_type": "markdown",
   "id": "d90e694c",
   "metadata": {},
   "source": [
    "# Examples for articles_parser\n",
    "\n",
    "This notebook demonstrates basic usage of the `articles_parser` module."
   ]
  },
  {
   "cell_type": "markdown",
   "id": "eb23c9ca",
   "metadata": {},
   "source": [
    "## Python API"
   ]
  },
  {
   "cell_type": "code",
   "execution_count": null,
   "id": "b80d23f7",
   "metadata": {},
   "outputs": [],
   "source": [
    "from articles_parser import run_pipeline\n",
    "\n",
    "run_pipeline(\n",
    "    keywords=[\"water viscosity\"],\n",
    "    abstract_filter=False,\n",
    "    property_names_units_filter=None,\n",
    "    oa_only=True,\n",
    "    max_per_source=2,\n",
    "    output_directory=\"example_output\"\n",
    ")"
   ]
  },
  {
   "cell_type": "markdown",
   "id": "f74a0cf1",
   "metadata": {},
   "source": [
    "## Command line interface"
   ]
  },
  {
   "cell_type": "code",
   "execution_count": null,
   "id": "19871968",
   "metadata": {},
   "outputs": [],
   "source": [
    "!python cli.py --keywords \"water viscosity\" --oa-only --max-per-source 2 --output-directory example_output"
   ]
  }
 ],
 "metadata": {},
 "nbformat": 4,
 "nbformat_minor": 5
}
