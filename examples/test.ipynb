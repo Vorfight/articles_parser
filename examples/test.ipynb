{
 "cells": [
  {
   "cell_type": "markdown",
   "id": "d90e694c",
   "metadata": {},
   "source": [
    "# Examples for articles_parser\n",
    "\n",
    "This notebook demonstrates basic usage of the `articles_parser` module."
   ]
  },
  {
   "cell_type": "markdown",
   "id": "eb23c9ca",
   "metadata": {},
   "source": [
    "## Python API"
   ]
  },
  {
   "cell_type": "code",
   "execution_count": null,
   "id": "b80d23f7",
   "metadata": {},
   "outputs": [
    {
     "name": "stderr",
     "output_type": "stream",
     "text": [
      "/opt/anaconda3/envs/parsing_art/lib/python3.11/site-packages/pypdf/_crypt_providers/_cryptography.py:32: CryptographyDeprecationWarning: ARC4 has been moved to cryptography.hazmat.decrepit.ciphers.algorithms.ARC4 and will be removed from cryptography.hazmat.primitives.ciphers.algorithms in 48.0.0.\n",
      "  from cryptography.hazmat.primitives.ciphers.algorithms import AES, ARC4\n"
     ]
    },
    {
     "name": "stdout",
     "output_type": "stream",
     "text": [
      "\n",
      "=== Keyword: radiolysis ===\n"
     ]
    },
    {
     "name": "stderr",
     "output_type": "stream",
     "text": [
      "OpenAlex search: 100%|██████████| 20/20 [00:01<00:00, 10.80rec/s]\n",
      "EuropePMC search: 100%|██████████| 20/20 [00:01<00:00, 17.30rec/s]\n",
      "Crossref search: 100%|██████████| 20/20 [00:26<00:00,  1.31s/rec]\n",
      "arXiv search pages: 100%|██████████| 1/1 [00:00<00:00,  1.11page/s]\n",
      "ScienceDirect search:  95%|█████████▌| 19/20 [00:04<00:00,  3.88rec/s]\n"
     ]
    },
    {
     "name": "stdout",
     "output_type": "stream",
     "text": [
      "Total unique records for 'radiolysis': 97\n"
     ]
    }
   ],
   "source": [
    "import os, sys\n",
    "sys.path.insert(0, os.path.abspath(\"..\"))\n",
    "\n",
    "from pipeline import run_pipeline\n",
    "\n",
    "run_pipeline(\n",
    "    keywords=[\"radiolysis\"],\n",
    "    abstract_filter=False,\n",
    "    property_names_units_filter=None,\n",
    "    oa_only=False,\n",
    "    max_per_source=20,\n",
    "    output_directory=\"example_output\"\n",
    ")"
   ]
  },
  {
   "cell_type": "markdown",
   "id": "f74a0cf1",
   "metadata": {},
   "source": [
    "## Command line interface"
   ]
  },
  {
   "cell_type": "code",
   "execution_count": null,
   "id": "19871968",
   "metadata": {},
   "outputs": [],
   "source": [
    "!python cli.py --keywords \"water viscosity\" --oa-only --max-per-source 2 --output-directory example_output"
   ]
  }
 ],
 "metadata": {
  "language_info": {
   "name": "python"
  }
 },
 "nbformat": 4,
 "nbformat_minor": 5
}
